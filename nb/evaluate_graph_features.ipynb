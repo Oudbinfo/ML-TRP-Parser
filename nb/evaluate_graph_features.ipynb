{
 "cells": [
  {
   "cell_type": "code",
   "execution_count": 1,
   "metadata": {
    "collapsed": true,
    "pycharm": {
     "name": "#%%\n"
    }
   },
   "outputs": [],
   "source": [
    "import os\n",
    "import pandas as pd\n",
    "import matplotlib.pyplot as plt\n",
    "import seaborn as sns\n",
    "from sklearn.manifold import MDS\n",
    "from sklearn.linear_model import LogisticRegression\n",
    "from sklearn.model_selection import train_test_split\n",
    "from sklearn.preprocessing import StandardScaler, OneHotEncoder, LabelEncoder\n",
    "from sklearn.ensemble import RandomForestClassifier\n",
    "from sklearn.metrics import accuracy_score\n",
    "from sklearn.model_selection import GridSearchCV"
   ]
  },
  {
   "cell_type": "markdown",
   "source": [
    "#### Merge the graph data as one dataframe"
   ],
   "metadata": {
    "collapsed": false,
    "pycharm": {
     "name": "#%% md\n"
    }
   }
  },
  {
   "cell_type": "code",
   "execution_count": 2,
   "outputs": [],
   "source": [
    "# Specify the directory of graph data\n",
    "graph_features_dir = \"/home/soroushm/Documents/ML-TRP-Parser_workframe/dataframes/graph_features\"\n",
    "\n",
    "# Save the path of every graph data\n",
    "file_path_list = []\n",
    "for root, dirs, files in os.walk(graph_features_dir):\n",
    "    for filename in files:\n",
    "        if filename.endswith(\"_features.csv\"):\n",
    "            file_path = os.path.join(root, filename)\n",
    "            file_path_list.append(file_path)"
   ],
   "metadata": {
    "collapsed": false,
    "pycharm": {
     "name": "#%%\n"
    }
   }
  },
  {
   "cell_type": "code",
   "execution_count": 3,
   "outputs": [],
   "source": [
    "# Read each CSV into a dataframe and store them in a list\n",
    "df_list = [pd.read_csv(path) for path in file_path_list]\n",
    "# Concatenate all dataframes together\n",
    "df = pd.concat(df_list, ignore_index=True)\n",
    "# Save the merged dataframe to a new CSV\n",
    "df.to_csv('../data/merged_features.csv', index=False)"
   ],
   "metadata": {
    "collapsed": false,
    "pycharm": {
     "name": "#%%\n"
    }
   }
  },
  {
   "cell_type": "code",
   "execution_count": 4,
   "outputs": [
    {
     "data": {
      "text/plain": "       peak_heights  left_thresholds  right_thresholds  prominences  \\\n0          0.365921         0.001922          0.012824     0.015101   \n1          0.523539         0.004752          0.000118     0.223897   \n2          0.538118         0.001839          0.002038     0.064424   \n3          0.949496         0.002526          0.002526     0.669662   \n4          0.314012         0.000661          0.008141     0.000661   \n...             ...              ...               ...          ...   \n20480      0.421816         0.029708          0.041086     0.145470   \n20481      0.567528         0.004890          0.008648     0.372908   \n20482      0.415756         0.008918          0.001332     0.167968   \n20483      0.317376         0.000292          0.013720     0.027386   \n20484      0.953848         0.007692          0.007692     0.171138   \n\n       left_bases  right_bases     widths  width_heights    left_ips  \\\n0               0           25   2.172749       0.358371    5.416013   \n1              25           70  28.663679       0.411591   34.825438   \n2              25          105  13.041878       0.505906   83.729430   \n3              25          227  33.909553       0.614664  115.045223   \n4             166          182   0.540603       0.313682  166.500000   \n...           ...          ...        ...            ...         ...   \n20480           9           49  10.381330       0.349081   14.243943   \n20481          49          116  16.810540       0.381074   86.325183   \n20482         116          171  14.505931       0.331772  126.481126   \n20483         145          171   4.048251       0.303683  149.949781   \n20484          49          200   7.324110       0.868279  186.575243   \n\n        right_ips  peak_x   ct  window_avg  window_len  label  \n0        7.588763       8  4.5       36.62          44      1  \n1       63.489117      46  4.5       36.62          44      1  \n2       96.771307      90  4.5       36.62          44      1  \n3      148.954777     133  4.5       36.62          44      1  \n4      167.040603     168  4.5       36.62          44      1  \n...           ...     ...  ...         ...         ...    ...  \n20480   24.625273      20  4.2       36.80          26      0  \n20481  103.135723      96  4.2       36.80          26      1  \n20482  140.987057     136  4.2       36.80          26      0  \n20483  153.998032     154  4.2       36.80          26      1  \n20484  193.899353     191  4.2       36.80          26      1  \n\n[20485 rows x 15 columns]",
      "text/html": "<div>\n<style scoped>\n    .dataframe tbody tr th:only-of-type {\n        vertical-align: middle;\n    }\n\n    .dataframe tbody tr th {\n        vertical-align: top;\n    }\n\n    .dataframe thead th {\n        text-align: right;\n    }\n</style>\n<table border=\"1\" class=\"dataframe\">\n  <thead>\n    <tr style=\"text-align: right;\">\n      <th></th>\n      <th>peak_heights</th>\n      <th>left_thresholds</th>\n      <th>right_thresholds</th>\n      <th>prominences</th>\n      <th>left_bases</th>\n      <th>right_bases</th>\n      <th>widths</th>\n      <th>width_heights</th>\n      <th>left_ips</th>\n      <th>right_ips</th>\n      <th>peak_x</th>\n      <th>ct</th>\n      <th>window_avg</th>\n      <th>window_len</th>\n      <th>label</th>\n    </tr>\n  </thead>\n  <tbody>\n    <tr>\n      <th>0</th>\n      <td>0.365921</td>\n      <td>0.001922</td>\n      <td>0.012824</td>\n      <td>0.015101</td>\n      <td>0</td>\n      <td>25</td>\n      <td>2.172749</td>\n      <td>0.358371</td>\n      <td>5.416013</td>\n      <td>7.588763</td>\n      <td>8</td>\n      <td>4.5</td>\n      <td>36.62</td>\n      <td>44</td>\n      <td>1</td>\n    </tr>\n    <tr>\n      <th>1</th>\n      <td>0.523539</td>\n      <td>0.004752</td>\n      <td>0.000118</td>\n      <td>0.223897</td>\n      <td>25</td>\n      <td>70</td>\n      <td>28.663679</td>\n      <td>0.411591</td>\n      <td>34.825438</td>\n      <td>63.489117</td>\n      <td>46</td>\n      <td>4.5</td>\n      <td>36.62</td>\n      <td>44</td>\n      <td>1</td>\n    </tr>\n    <tr>\n      <th>2</th>\n      <td>0.538118</td>\n      <td>0.001839</td>\n      <td>0.002038</td>\n      <td>0.064424</td>\n      <td>25</td>\n      <td>105</td>\n      <td>13.041878</td>\n      <td>0.505906</td>\n      <td>83.729430</td>\n      <td>96.771307</td>\n      <td>90</td>\n      <td>4.5</td>\n      <td>36.62</td>\n      <td>44</td>\n      <td>1</td>\n    </tr>\n    <tr>\n      <th>3</th>\n      <td>0.949496</td>\n      <td>0.002526</td>\n      <td>0.002526</td>\n      <td>0.669662</td>\n      <td>25</td>\n      <td>227</td>\n      <td>33.909553</td>\n      <td>0.614664</td>\n      <td>115.045223</td>\n      <td>148.954777</td>\n      <td>133</td>\n      <td>4.5</td>\n      <td>36.62</td>\n      <td>44</td>\n      <td>1</td>\n    </tr>\n    <tr>\n      <th>4</th>\n      <td>0.314012</td>\n      <td>0.000661</td>\n      <td>0.008141</td>\n      <td>0.000661</td>\n      <td>166</td>\n      <td>182</td>\n      <td>0.540603</td>\n      <td>0.313682</td>\n      <td>166.500000</td>\n      <td>167.040603</td>\n      <td>168</td>\n      <td>4.5</td>\n      <td>36.62</td>\n      <td>44</td>\n      <td>1</td>\n    </tr>\n    <tr>\n      <th>...</th>\n      <td>...</td>\n      <td>...</td>\n      <td>...</td>\n      <td>...</td>\n      <td>...</td>\n      <td>...</td>\n      <td>...</td>\n      <td>...</td>\n      <td>...</td>\n      <td>...</td>\n      <td>...</td>\n      <td>...</td>\n      <td>...</td>\n      <td>...</td>\n      <td>...</td>\n    </tr>\n    <tr>\n      <th>20480</th>\n      <td>0.421816</td>\n      <td>0.029708</td>\n      <td>0.041086</td>\n      <td>0.145470</td>\n      <td>9</td>\n      <td>49</td>\n      <td>10.381330</td>\n      <td>0.349081</td>\n      <td>14.243943</td>\n      <td>24.625273</td>\n      <td>20</td>\n      <td>4.2</td>\n      <td>36.80</td>\n      <td>26</td>\n      <td>0</td>\n    </tr>\n    <tr>\n      <th>20481</th>\n      <td>0.567528</td>\n      <td>0.004890</td>\n      <td>0.008648</td>\n      <td>0.372908</td>\n      <td>49</td>\n      <td>116</td>\n      <td>16.810540</td>\n      <td>0.381074</td>\n      <td>86.325183</td>\n      <td>103.135723</td>\n      <td>96</td>\n      <td>4.2</td>\n      <td>36.80</td>\n      <td>26</td>\n      <td>1</td>\n    </tr>\n    <tr>\n      <th>20482</th>\n      <td>0.415756</td>\n      <td>0.008918</td>\n      <td>0.001332</td>\n      <td>0.167968</td>\n      <td>116</td>\n      <td>171</td>\n      <td>14.505931</td>\n      <td>0.331772</td>\n      <td>126.481126</td>\n      <td>140.987057</td>\n      <td>136</td>\n      <td>4.2</td>\n      <td>36.80</td>\n      <td>26</td>\n      <td>0</td>\n    </tr>\n    <tr>\n      <th>20483</th>\n      <td>0.317376</td>\n      <td>0.000292</td>\n      <td>0.013720</td>\n      <td>0.027386</td>\n      <td>145</td>\n      <td>171</td>\n      <td>4.048251</td>\n      <td>0.303683</td>\n      <td>149.949781</td>\n      <td>153.998032</td>\n      <td>154</td>\n      <td>4.2</td>\n      <td>36.80</td>\n      <td>26</td>\n      <td>1</td>\n    </tr>\n    <tr>\n      <th>20484</th>\n      <td>0.953848</td>\n      <td>0.007692</td>\n      <td>0.007692</td>\n      <td>0.171138</td>\n      <td>49</td>\n      <td>200</td>\n      <td>7.324110</td>\n      <td>0.868279</td>\n      <td>186.575243</td>\n      <td>193.899353</td>\n      <td>191</td>\n      <td>4.2</td>\n      <td>36.80</td>\n      <td>26</td>\n      <td>1</td>\n    </tr>\n  </tbody>\n</table>\n<p>20485 rows × 15 columns</p>\n</div>"
     },
     "execution_count": 4,
     "metadata": {},
     "output_type": "execute_result"
    }
   ],
   "source": [
    "# Load merged the dataframe\n",
    "df = pd.read_csv(\"../data/merged_features.csv\", dtype={\"ct\": str})\n",
    "df"
   ],
   "metadata": {
    "collapsed": false,
    "pycharm": {
     "name": "#%%\n"
    }
   }
  },
  {
   "cell_type": "markdown",
   "source": [
    "#### Check the features and prepare the train and test datasets"
   ],
   "metadata": {
    "collapsed": false,
    "pycharm": {
     "name": "#%% md\n"
    }
   }
  },
  {
   "cell_type": "code",
   "execution_count": 5,
   "outputs": [
    {
     "data": {
      "text/plain": "1    14247\n0     6238\nName: label, dtype: int64"
     },
     "execution_count": 5,
     "metadata": {},
     "output_type": "execute_result"
    }
   ],
   "source": [
    "# Check the label value counts\n",
    "df[\"label\"].value_counts()"
   ],
   "metadata": {
    "collapsed": false,
    "pycharm": {
     "name": "#%%\n"
    }
   }
  },
  {
   "cell_type": "code",
   "execution_count": 6,
   "outputs": [],
   "source": [
    "# Save the labels to a list and drop the column from df\n",
    "labels = df[\"label\"].tolist()\n",
    "df.drop([\"label\"], axis=1, inplace=True)"
   ],
   "metadata": {
    "collapsed": false,
    "pycharm": {
     "name": "#%%\n"
    }
   }
  },
  {
   "cell_type": "code",
   "execution_count": 7,
   "outputs": [],
   "source": [
    "# Either one hot encode the 'ct' or remove it\n",
    "\n",
    "df.drop([\"ct\"], axis=1, inplace=True) # Remove\n",
    "# df = pd.get_dummies(df, columns=['ct'], drop_first=True) # One-Hot Encode"
   ],
   "metadata": {
    "collapsed": false,
    "pycharm": {
     "name": "#%%\n"
    }
   }
  },
  {
   "cell_type": "code",
   "execution_count": 8,
   "outputs": [
    {
     "data": {
      "text/plain": "       peak_heights  left_thresholds  right_thresholds  prominences  \\\n0          0.365921         0.001922          0.012824     0.015101   \n1          0.523539         0.004752          0.000118     0.223897   \n2          0.538118         0.001839          0.002038     0.064424   \n3          0.949496         0.002526          0.002526     0.669662   \n4          0.314012         0.000661          0.008141     0.000661   \n...             ...              ...               ...          ...   \n20480      0.421816         0.029708          0.041086     0.145470   \n20481      0.567528         0.004890          0.008648     0.372908   \n20482      0.415756         0.008918          0.001332     0.167968   \n20483      0.317376         0.000292          0.013720     0.027386   \n20484      0.953848         0.007692          0.007692     0.171138   \n\n       left_bases  right_bases    widths  width_heights  left_ips  right_ips  \\\n0        0.181818    -0.386364  0.049381       0.358371  0.058727   0.009346   \n1        0.477273    -0.545455  0.651447       0.411591  0.253967  -0.397480   \n2        1.477273    -0.340909  0.296406       0.505906  0.142513  -0.153893   \n3        2.454545    -2.136364  0.770672       0.614664  0.408063  -0.362609   \n4        0.045455    -0.318182  0.012286       0.313682  0.034091   0.021804   \n...           ...          ...       ...            ...       ...        ...   \n20480    0.423077    -1.115385  0.399282       0.349081  0.221387  -0.177895   \n20481    1.807692    -0.769231  0.646559       0.381074  0.372108  -0.274451   \n20482    0.769231    -1.346154  0.557920       0.331772  0.366111  -0.191810   \n20483    0.346154    -0.653846  0.155702       0.303683  0.155778   0.000076   \n20484    5.461538    -0.346154  0.281697       0.868279  0.170183  -0.111514   \n\n       peak_x  window_avg  window_len  \n0           8       36.62          44  \n1          46       36.62          44  \n2          90       36.62          44  \n3         133       36.62          44  \n4         168       36.62          44  \n...       ...         ...         ...  \n20480      20       36.80          26  \n20481      96       36.80          26  \n20482     136       36.80          26  \n20483     154       36.80          26  \n20484     191       36.80          26  \n\n[20485 rows x 13 columns]",
      "text/html": "<div>\n<style scoped>\n    .dataframe tbody tr th:only-of-type {\n        vertical-align: middle;\n    }\n\n    .dataframe tbody tr th {\n        vertical-align: top;\n    }\n\n    .dataframe thead th {\n        text-align: right;\n    }\n</style>\n<table border=\"1\" class=\"dataframe\">\n  <thead>\n    <tr style=\"text-align: right;\">\n      <th></th>\n      <th>peak_heights</th>\n      <th>left_thresholds</th>\n      <th>right_thresholds</th>\n      <th>prominences</th>\n      <th>left_bases</th>\n      <th>right_bases</th>\n      <th>widths</th>\n      <th>width_heights</th>\n      <th>left_ips</th>\n      <th>right_ips</th>\n      <th>peak_x</th>\n      <th>window_avg</th>\n      <th>window_len</th>\n    </tr>\n  </thead>\n  <tbody>\n    <tr>\n      <th>0</th>\n      <td>0.365921</td>\n      <td>0.001922</td>\n      <td>0.012824</td>\n      <td>0.015101</td>\n      <td>0.181818</td>\n      <td>-0.386364</td>\n      <td>0.049381</td>\n      <td>0.358371</td>\n      <td>0.058727</td>\n      <td>0.009346</td>\n      <td>8</td>\n      <td>36.62</td>\n      <td>44</td>\n    </tr>\n    <tr>\n      <th>1</th>\n      <td>0.523539</td>\n      <td>0.004752</td>\n      <td>0.000118</td>\n      <td>0.223897</td>\n      <td>0.477273</td>\n      <td>-0.545455</td>\n      <td>0.651447</td>\n      <td>0.411591</td>\n      <td>0.253967</td>\n      <td>-0.397480</td>\n      <td>46</td>\n      <td>36.62</td>\n      <td>44</td>\n    </tr>\n    <tr>\n      <th>2</th>\n      <td>0.538118</td>\n      <td>0.001839</td>\n      <td>0.002038</td>\n      <td>0.064424</td>\n      <td>1.477273</td>\n      <td>-0.340909</td>\n      <td>0.296406</td>\n      <td>0.505906</td>\n      <td>0.142513</td>\n      <td>-0.153893</td>\n      <td>90</td>\n      <td>36.62</td>\n      <td>44</td>\n    </tr>\n    <tr>\n      <th>3</th>\n      <td>0.949496</td>\n      <td>0.002526</td>\n      <td>0.002526</td>\n      <td>0.669662</td>\n      <td>2.454545</td>\n      <td>-2.136364</td>\n      <td>0.770672</td>\n      <td>0.614664</td>\n      <td>0.408063</td>\n      <td>-0.362609</td>\n      <td>133</td>\n      <td>36.62</td>\n      <td>44</td>\n    </tr>\n    <tr>\n      <th>4</th>\n      <td>0.314012</td>\n      <td>0.000661</td>\n      <td>0.008141</td>\n      <td>0.000661</td>\n      <td>0.045455</td>\n      <td>-0.318182</td>\n      <td>0.012286</td>\n      <td>0.313682</td>\n      <td>0.034091</td>\n      <td>0.021804</td>\n      <td>168</td>\n      <td>36.62</td>\n      <td>44</td>\n    </tr>\n    <tr>\n      <th>...</th>\n      <td>...</td>\n      <td>...</td>\n      <td>...</td>\n      <td>...</td>\n      <td>...</td>\n      <td>...</td>\n      <td>...</td>\n      <td>...</td>\n      <td>...</td>\n      <td>...</td>\n      <td>...</td>\n      <td>...</td>\n      <td>...</td>\n    </tr>\n    <tr>\n      <th>20480</th>\n      <td>0.421816</td>\n      <td>0.029708</td>\n      <td>0.041086</td>\n      <td>0.145470</td>\n      <td>0.423077</td>\n      <td>-1.115385</td>\n      <td>0.399282</td>\n      <td>0.349081</td>\n      <td>0.221387</td>\n      <td>-0.177895</td>\n      <td>20</td>\n      <td>36.80</td>\n      <td>26</td>\n    </tr>\n    <tr>\n      <th>20481</th>\n      <td>0.567528</td>\n      <td>0.004890</td>\n      <td>0.008648</td>\n      <td>0.372908</td>\n      <td>1.807692</td>\n      <td>-0.769231</td>\n      <td>0.646559</td>\n      <td>0.381074</td>\n      <td>0.372108</td>\n      <td>-0.274451</td>\n      <td>96</td>\n      <td>36.80</td>\n      <td>26</td>\n    </tr>\n    <tr>\n      <th>20482</th>\n      <td>0.415756</td>\n      <td>0.008918</td>\n      <td>0.001332</td>\n      <td>0.167968</td>\n      <td>0.769231</td>\n      <td>-1.346154</td>\n      <td>0.557920</td>\n      <td>0.331772</td>\n      <td>0.366111</td>\n      <td>-0.191810</td>\n      <td>136</td>\n      <td>36.80</td>\n      <td>26</td>\n    </tr>\n    <tr>\n      <th>20483</th>\n      <td>0.317376</td>\n      <td>0.000292</td>\n      <td>0.013720</td>\n      <td>0.027386</td>\n      <td>0.346154</td>\n      <td>-0.653846</td>\n      <td>0.155702</td>\n      <td>0.303683</td>\n      <td>0.155778</td>\n      <td>0.000076</td>\n      <td>154</td>\n      <td>36.80</td>\n      <td>26</td>\n    </tr>\n    <tr>\n      <th>20484</th>\n      <td>0.953848</td>\n      <td>0.007692</td>\n      <td>0.007692</td>\n      <td>0.171138</td>\n      <td>5.461538</td>\n      <td>-0.346154</td>\n      <td>0.281697</td>\n      <td>0.868279</td>\n      <td>0.170183</td>\n      <td>-0.111514</td>\n      <td>191</td>\n      <td>36.80</td>\n      <td>26</td>\n    </tr>\n  </tbody>\n</table>\n<p>20485 rows × 13 columns</p>\n</div>"
     },
     "execution_count": 8,
     "metadata": {},
     "output_type": "execute_result"
    }
   ],
   "source": [
    "# Normalize the widths relative to window_len\n",
    "df[\"widths\"] = df[\"widths\"] / df[\"window_len\"]\n",
    "\n",
    "# Normalize ips and bases columns based on the difference with peak_x position relative to window_len\n",
    "for column in [\"left_ips\", \"right_ips\", \"left_bases\", \"right_bases\"]:\n",
    "    df[column] = (df[\"peak_x\"] - df[column]) / df[\"window_len\"]\n",
    "\n",
    "df"
   ],
   "metadata": {
    "collapsed": false,
    "pycharm": {
     "name": "#%%\n"
    }
   }
  },
  {
   "cell_type": "code",
   "execution_count": 9,
   "outputs": [
    {
     "data": {
      "text/plain": "       peak_heights  left_thresholds  right_thresholds  prominences  \\\n0          0.365921         0.001922          0.012824     0.015101   \n1          0.523539         0.004752          0.000118     0.223897   \n2          0.538118         0.001839          0.002038     0.064424   \n3          0.949496         0.002526          0.002526     0.669662   \n4          0.314012         0.000661          0.008141     0.000661   \n...             ...              ...               ...          ...   \n20480      0.421816         0.029708          0.041086     0.145470   \n20481      0.567528         0.004890          0.008648     0.372908   \n20482      0.415756         0.008918          0.001332     0.167968   \n20483      0.317376         0.000292          0.013720     0.027386   \n20484      0.953848         0.007692          0.007692     0.171138   \n\n       left_bases  right_bases    widths  width_heights  left_ips  right_ips  \\\n0        0.181818    -0.386364  0.049381       0.358371  0.058727   0.009346   \n1        0.477273    -0.545455  0.651447       0.411591  0.253967  -0.397480   \n2        1.477273    -0.340909  0.296406       0.505906  0.142513  -0.153893   \n3        2.454545    -2.136364  0.770672       0.614664  0.408063  -0.362609   \n4        0.045455    -0.318182  0.012286       0.313682  0.034091   0.021804   \n...           ...          ...       ...            ...       ...        ...   \n20480    0.423077    -1.115385  0.399282       0.349081  0.221387  -0.177895   \n20481    1.807692    -0.769231  0.646559       0.381074  0.372108  -0.274451   \n20482    0.769231    -1.346154  0.557920       0.331772  0.366111  -0.191810   \n20483    0.346154    -0.653846  0.155702       0.303683  0.155778   0.000076   \n20484    5.461538    -0.346154  0.281697       0.868279  0.170183  -0.111514   \n\n       window_avg  window_len  \n0           36.62          44  \n1           36.62          44  \n2           36.62          44  \n3           36.62          44  \n4           36.62          44  \n...           ...         ...  \n20480       36.80          26  \n20481       36.80          26  \n20482       36.80          26  \n20483       36.80          26  \n20484       36.80          26  \n\n[20485 rows x 12 columns]",
      "text/html": "<div>\n<style scoped>\n    .dataframe tbody tr th:only-of-type {\n        vertical-align: middle;\n    }\n\n    .dataframe tbody tr th {\n        vertical-align: top;\n    }\n\n    .dataframe thead th {\n        text-align: right;\n    }\n</style>\n<table border=\"1\" class=\"dataframe\">\n  <thead>\n    <tr style=\"text-align: right;\">\n      <th></th>\n      <th>peak_heights</th>\n      <th>left_thresholds</th>\n      <th>right_thresholds</th>\n      <th>prominences</th>\n      <th>left_bases</th>\n      <th>right_bases</th>\n      <th>widths</th>\n      <th>width_heights</th>\n      <th>left_ips</th>\n      <th>right_ips</th>\n      <th>window_avg</th>\n      <th>window_len</th>\n    </tr>\n  </thead>\n  <tbody>\n    <tr>\n      <th>0</th>\n      <td>0.365921</td>\n      <td>0.001922</td>\n      <td>0.012824</td>\n      <td>0.015101</td>\n      <td>0.181818</td>\n      <td>-0.386364</td>\n      <td>0.049381</td>\n      <td>0.358371</td>\n      <td>0.058727</td>\n      <td>0.009346</td>\n      <td>36.62</td>\n      <td>44</td>\n    </tr>\n    <tr>\n      <th>1</th>\n      <td>0.523539</td>\n      <td>0.004752</td>\n      <td>0.000118</td>\n      <td>0.223897</td>\n      <td>0.477273</td>\n      <td>-0.545455</td>\n      <td>0.651447</td>\n      <td>0.411591</td>\n      <td>0.253967</td>\n      <td>-0.397480</td>\n      <td>36.62</td>\n      <td>44</td>\n    </tr>\n    <tr>\n      <th>2</th>\n      <td>0.538118</td>\n      <td>0.001839</td>\n      <td>0.002038</td>\n      <td>0.064424</td>\n      <td>1.477273</td>\n      <td>-0.340909</td>\n      <td>0.296406</td>\n      <td>0.505906</td>\n      <td>0.142513</td>\n      <td>-0.153893</td>\n      <td>36.62</td>\n      <td>44</td>\n    </tr>\n    <tr>\n      <th>3</th>\n      <td>0.949496</td>\n      <td>0.002526</td>\n      <td>0.002526</td>\n      <td>0.669662</td>\n      <td>2.454545</td>\n      <td>-2.136364</td>\n      <td>0.770672</td>\n      <td>0.614664</td>\n      <td>0.408063</td>\n      <td>-0.362609</td>\n      <td>36.62</td>\n      <td>44</td>\n    </tr>\n    <tr>\n      <th>4</th>\n      <td>0.314012</td>\n      <td>0.000661</td>\n      <td>0.008141</td>\n      <td>0.000661</td>\n      <td>0.045455</td>\n      <td>-0.318182</td>\n      <td>0.012286</td>\n      <td>0.313682</td>\n      <td>0.034091</td>\n      <td>0.021804</td>\n      <td>36.62</td>\n      <td>44</td>\n    </tr>\n    <tr>\n      <th>...</th>\n      <td>...</td>\n      <td>...</td>\n      <td>...</td>\n      <td>...</td>\n      <td>...</td>\n      <td>...</td>\n      <td>...</td>\n      <td>...</td>\n      <td>...</td>\n      <td>...</td>\n      <td>...</td>\n      <td>...</td>\n    </tr>\n    <tr>\n      <th>20480</th>\n      <td>0.421816</td>\n      <td>0.029708</td>\n      <td>0.041086</td>\n      <td>0.145470</td>\n      <td>0.423077</td>\n      <td>-1.115385</td>\n      <td>0.399282</td>\n      <td>0.349081</td>\n      <td>0.221387</td>\n      <td>-0.177895</td>\n      <td>36.80</td>\n      <td>26</td>\n    </tr>\n    <tr>\n      <th>20481</th>\n      <td>0.567528</td>\n      <td>0.004890</td>\n      <td>0.008648</td>\n      <td>0.372908</td>\n      <td>1.807692</td>\n      <td>-0.769231</td>\n      <td>0.646559</td>\n      <td>0.381074</td>\n      <td>0.372108</td>\n      <td>-0.274451</td>\n      <td>36.80</td>\n      <td>26</td>\n    </tr>\n    <tr>\n      <th>20482</th>\n      <td>0.415756</td>\n      <td>0.008918</td>\n      <td>0.001332</td>\n      <td>0.167968</td>\n      <td>0.769231</td>\n      <td>-1.346154</td>\n      <td>0.557920</td>\n      <td>0.331772</td>\n      <td>0.366111</td>\n      <td>-0.191810</td>\n      <td>36.80</td>\n      <td>26</td>\n    </tr>\n    <tr>\n      <th>20483</th>\n      <td>0.317376</td>\n      <td>0.000292</td>\n      <td>0.013720</td>\n      <td>0.027386</td>\n      <td>0.346154</td>\n      <td>-0.653846</td>\n      <td>0.155702</td>\n      <td>0.303683</td>\n      <td>0.155778</td>\n      <td>0.000076</td>\n      <td>36.80</td>\n      <td>26</td>\n    </tr>\n    <tr>\n      <th>20484</th>\n      <td>0.953848</td>\n      <td>0.007692</td>\n      <td>0.007692</td>\n      <td>0.171138</td>\n      <td>5.461538</td>\n      <td>-0.346154</td>\n      <td>0.281697</td>\n      <td>0.868279</td>\n      <td>0.170183</td>\n      <td>-0.111514</td>\n      <td>36.80</td>\n      <td>26</td>\n    </tr>\n  </tbody>\n</table>\n<p>20485 rows × 12 columns</p>\n</div>"
     },
     "execution_count": 9,
     "metadata": {},
     "output_type": "execute_result"
    }
   ],
   "source": [
    "# Drop peak_x as not needed anymore\n",
    "df.drop([\"peak_x\"], axis=1, inplace=True)\n",
    "df"
   ],
   "metadata": {
    "collapsed": false,
    "pycharm": {
     "name": "#%%\n"
    }
   }
  },
  {
   "cell_type": "code",
   "execution_count": 10,
   "outputs": [],
   "source": [
    "# Divide the features and targets train and test with 0.8, 0.2 proportion\n",
    "X = df  # Features\n",
    "y = labels[:]  # Target\n",
    "\n",
    "X_train, X_test, y_train, y_test = train_test_split(X, y, test_size=0.2)"
   ],
   "metadata": {
    "collapsed": false,
    "pycharm": {
     "name": "#%%\n"
    }
   }
  },
  {
   "cell_type": "code",
   "execution_count": 11,
   "outputs": [],
   "source": [
    "# Standardize the datasets\n",
    "scaler = StandardScaler()\n",
    "X_train = scaler.fit_transform(X_train)\n",
    "X_test = scaler.transform(X_test)"
   ],
   "metadata": {
    "collapsed": false,
    "pycharm": {
     "name": "#%%\n"
    }
   }
  },
  {
   "cell_type": "markdown",
   "source": [
    "#### Perform a grid search for hyperparameter tuning of Logistic Regression"
   ],
   "metadata": {
    "collapsed": false,
    "pycharm": {
     "name": "#%% md\n"
    }
   }
  },
  {
   "cell_type": "code",
   "execution_count": null,
   "outputs": [],
   "source": [
    "# # Define the hyperparameter grid\n",
    "# param_grid = {\n",
    "#     'C': [0.001, 0.01, 0.1, 1, 10, 100, 1000],\n",
    "#     'penalty': ['l1', 'l2', 'elasticnet', 'none'],\n",
    "#     'solver': ['newton-cg', 'lbfgs', 'liblinear', 'sag', 'saga'],\n",
    "#     'fit_intercept': [True, False],\n",
    "#     'class_weight': [None, 'balanced']\n",
    "# }\n",
    "#\n",
    "# # Create the logistic regression model\n",
    "# logreg = LogisticRegression(max_iter=5000)\n",
    "#\n",
    "# # Create the grid search object\n",
    "# grid_search = GridSearchCV(estimator=logreg, param_grid=param_grid, cv=5, n_jobs=-1, verbose=2)\n",
    "#\n",
    "# # Fit the grid search object to the data\n",
    "# grid_search.fit(X_train, y_train)\n",
    "#\n",
    "# # Print the best parameters\n",
    "# print(\"Best parameters:\", grid_search.best_params_)"
   ],
   "metadata": {
    "collapsed": false,
    "pycharm": {
     "name": "#%%\n",
     "is_executing": true
    }
   }
  },
  {
   "cell_type": "markdown",
   "source": [
    "#### Create Logistic Regression model"
   ],
   "metadata": {
    "collapsed": false,
    "pycharm": {
     "name": "#%% md\n"
    }
   }
  },
  {
   "cell_type": "code",
   "execution_count": 12,
   "outputs": [
    {
     "name": "stdout",
     "output_type": "stream",
     "text": [
      "Logistic Regression Accuracy: 76.74%\n"
     ]
    }
   ],
   "source": [
    "model = LogisticRegression(max_iter=5000, C=1000, class_weight=None, fit_intercept=True, penalty='l2', solver='newton-cg')  # Using a high max_iter in case default doesn't converge\n",
    "model.fit(X_train, y_train)\n",
    "\n",
    "y_pred = model.predict(X_test)\n",
    "\n",
    "accuracy = accuracy_score(y_test, y_pred)\n",
    "print(f\"Logistic Regression Accuracy: {accuracy * 100:.2f}%\")"
   ],
   "metadata": {
    "collapsed": false,
    "pycharm": {
     "name": "#%%\n"
    }
   }
  },
  {
   "cell_type": "markdown",
   "source": [
    "#### Create Random Forest Classifier Model"
   ],
   "metadata": {
    "collapsed": false,
    "pycharm": {
     "name": "#%% md\n"
    }
   }
  },
  {
   "cell_type": "code",
   "execution_count": 13,
   "outputs": [
    {
     "name": "stdout",
     "output_type": "stream",
     "text": [
      "Random Forest Classifier Accuracy: 82.52%\n"
     ]
    }
   ],
   "source": [
    "model = RandomForestClassifier(n_estimators=100)  # You can adjust parameters like n_estimators\n",
    "model.fit(X_train, y_train)\n",
    "\n",
    "y_pred = model.predict(X_test)\n",
    "\n",
    "accuracy = accuracy_score(y_test, y_pred)\n",
    "print(f\"Random Forest Classifier Accuracy: {accuracy * 100:.2f}%\")"
   ],
   "metadata": {
    "collapsed": false,
    "pycharm": {
     "name": "#%%\n"
    }
   }
  },
  {
   "cell_type": "code",
   "execution_count": 14,
   "outputs": [
    {
     "data": {
      "text/plain": "<Figure size 1000x600 with 1 Axes>",
      "image/png": "[encoded data removed]"
     },
     "metadata": {},
     "output_type": "display_data"
    }
   ],
   "source": [
    "# Get feature importances\n",
    "feature_importances = model.feature_importances_\n",
    "\n",
    "# Create a DataFrame for feature importances\n",
    "importance_df = pd.DataFrame({'Feature': df.columns, 'Importance': feature_importances})\n",
    "\n",
    "# Sort the DataFrame by importance\n",
    "importance_df = importance_df.sort_values(by='Importance', ascending=False)\n",
    "\n",
    "# Create a horizontal bar plot\n",
    "plt.figure(figsize=(10, 6))\n",
    "plt.barh(importance_df['Feature'], importance_df['Importance'])\n",
    "plt.xlabel('Importance')\n",
    "plt.ylabel('Feature')\n",
    "plt.title('Feature Importances in Random Forest Classifier')\n",
    "plt.show()"
   ],
   "metadata": {
    "collapsed": false,
    "pycharm": {
     "name": "#%%\n"
    }
   }
  }
 ],
 "metadata": {
  "kernelspec": {
   "display_name": "Python 3",
   "language": "python",
   "name": "python3"
  },
  "language_info": {
   "codemirror_mode": {
    "name": "ipython",
    "version": 2
   },
   "file_extension": ".py",
   "mimetype": "text/x-python",
   "name": "python",
   "nbconvert_exporter": "python",
   "pygments_lexer": "ipython2",
   "version": "2.7.6"
  }
 },
 "nbformat": 4,
 "nbformat_minor": 0
}