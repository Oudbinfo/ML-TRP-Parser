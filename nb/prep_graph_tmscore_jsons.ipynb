{
 "cells": [
  {
   "cell_type": "code",
   "execution_count": 2,
   "outputs": [],
   "source": [
    "import os\n",
    "import json\n",
    "import pandas as pd"
   ],
   "metadata": {
    "collapsed": false,
    "pycharm": {
     "name": "#%%\n"
    }
   }
  },
  {
   "cell_type": "code",
   "execution_count": 5,
   "outputs": [
    {
     "data": {
      "text/plain": "          region_id     uniprot     ctfc  \\\n0      4zb5A_11_311      P24300  4.5.0.0   \n1      5zbgA_24_171      Q13507    3.3.0   \n2     2zb5A_215_606      P08362  4.4.0.0   \n3     4zb4A_188_502      P32523  4.4.0.0   \n4       2zb1A_8_108      Q16539    4.2.0   \n...             ...         ...      ...   \n2468    3ctlA_2_218      P32719  4.1.1.3   \n2469  5ctrA_307_586      Q15020  3.3.0.0   \n2470    5ltpA_6_215  A0A1S4NYF2    4.2.0   \n2471   5ltdA_33_524      Q5QA94    4.4.1   \n2472    5ltqA_6_216      B1PNC0    4.2.0   \n\n                                                  units  units_num  units_avg  \\\n0     11_49,50_87,88_132,133_176,177_211,212_244,245...          8      36.62   \n1                            24_53,54_87,88_116,117_171          4      36.00   \n2       215_285,286_345,346_441,442_482,509_561,562_606          6      60.00   \n3     188_247,248_287,288_334,335_376,377_423,424_47...          7      44.00   \n4                                     8_23,24_47,88_108          3      19.33   \n...                                                 ...        ...        ...   \n2468  2_27,28_59,60_81,82_107,108_129,130_167,168_18...          8      26.12   \n2469  307_341,342_376,377_411,412_469,470_506,507_53...          7      39.00   \n2470                  6_31,32_94,95_127,148_179,190_215          5      35.00   \n2471  33_72,73_120,121_159,160_224,225_269,270_452,4...          7      69.29   \n2472                  6_33,34_96,97_127,150_190,191_216          5      36.80   \n\n                 insertions  insertions_num    pdb   ct  \n0                       NaN               0  4zb5A  4.5  \n1                   121_149               1  5zbgA  3.3  \n2           372_408,483_508               2  2zb5A  4.4  \n3                       NaN               0  4zb4A  4.4  \n4                     48_87               1  2zb1A  4.2  \n...                     ...             ...    ...  ...  \n2468                    NaN               0  3ctlA  4.1  \n2469                    NaN               0  5ctrA  3.3  \n2470  45_82,128_147,180_189               3  5ltpA  4.2  \n2471                462_489               1  5ltdA  4.4  \n2472  49_80,128_149,182_187               3  5ltqA  4.2  \n\n[2473 rows x 10 columns]",
      "text/html": "<div>\n<style scoped>\n    .dataframe tbody tr th:only-of-type {\n        vertical-align: middle;\n    }\n\n    .dataframe tbody tr th {\n        vertical-align: top;\n    }\n\n    .dataframe thead th {\n        text-align: right;\n    }\n</style>\n<table border=\"1\" class=\"dataframe\">\n  <thead>\n    <tr style=\"text-align: right;\">\n      <th></th>\n      <th>region_id</th>\n      <th>uniprot</th>\n      <th>ctfc</th>\n      <th>units</th>\n      <th>units_num</th>\n      <th>units_avg</th>\n      <th>insertions</th>\n      <th>insertions_num</th>\n      <th>pdb</th>\n      <th>ct</th>\n    </tr>\n  </thead>\n  <tbody>\n    <tr>\n      <th>0</th>\n      <td>4zb5A_11_311</td>\n      <td>P24300</td>\n      <td>4.5.0.0</td>\n      <td>11_49,50_87,88_132,133_176,177_211,212_244,245...</td>\n      <td>8</td>\n      <td>36.62</td>\n      <td>NaN</td>\n      <td>0</td>\n      <td>4zb5A</td>\n      <td>4.5</td>\n    </tr>\n    <tr>\n      <th>1</th>\n      <td>5zbgA_24_171</td>\n      <td>Q13507</td>\n      <td>3.3.0</td>\n      <td>24_53,54_87,88_116,117_171</td>\n      <td>4</td>\n      <td>36.00</td>\n      <td>121_149</td>\n      <td>1</td>\n      <td>5zbgA</td>\n      <td>3.3</td>\n    </tr>\n    <tr>\n      <th>2</th>\n      <td>2zb5A_215_606</td>\n      <td>P08362</td>\n      <td>4.4.0.0</td>\n      <td>215_285,286_345,346_441,442_482,509_561,562_606</td>\n      <td>6</td>\n      <td>60.00</td>\n      <td>372_408,483_508</td>\n      <td>2</td>\n      <td>2zb5A</td>\n      <td>4.4</td>\n    </tr>\n    <tr>\n      <th>3</th>\n      <td>4zb4A_188_502</td>\n      <td>P32523</td>\n      <td>4.4.0.0</td>\n      <td>188_247,248_287,288_334,335_376,377_423,424_47...</td>\n      <td>7</td>\n      <td>44.00</td>\n      <td>NaN</td>\n      <td>0</td>\n      <td>4zb4A</td>\n      <td>4.4</td>\n    </tr>\n    <tr>\n      <th>4</th>\n      <td>2zb1A_8_108</td>\n      <td>Q16539</td>\n      <td>4.2.0</td>\n      <td>8_23,24_47,88_108</td>\n      <td>3</td>\n      <td>19.33</td>\n      <td>48_87</td>\n      <td>1</td>\n      <td>2zb1A</td>\n      <td>4.2</td>\n    </tr>\n    <tr>\n      <th>...</th>\n      <td>...</td>\n      <td>...</td>\n      <td>...</td>\n      <td>...</td>\n      <td>...</td>\n      <td>...</td>\n      <td>...</td>\n      <td>...</td>\n      <td>...</td>\n      <td>...</td>\n    </tr>\n    <tr>\n      <th>2468</th>\n      <td>3ctlA_2_218</td>\n      <td>P32719</td>\n      <td>4.1.1.3</td>\n      <td>2_27,28_59,60_81,82_107,108_129,130_167,168_18...</td>\n      <td>8</td>\n      <td>26.12</td>\n      <td>NaN</td>\n      <td>0</td>\n      <td>3ctlA</td>\n      <td>4.1</td>\n    </tr>\n    <tr>\n      <th>2469</th>\n      <td>5ctrA_307_586</td>\n      <td>Q15020</td>\n      <td>3.3.0.0</td>\n      <td>307_341,342_376,377_411,412_469,470_506,507_53...</td>\n      <td>7</td>\n      <td>39.00</td>\n      <td>NaN</td>\n      <td>0</td>\n      <td>5ctrA</td>\n      <td>3.3</td>\n    </tr>\n    <tr>\n      <th>2470</th>\n      <td>5ltpA_6_215</td>\n      <td>A0A1S4NYF2</td>\n      <td>4.2.0</td>\n      <td>6_31,32_94,95_127,148_179,190_215</td>\n      <td>5</td>\n      <td>35.00</td>\n      <td>45_82,128_147,180_189</td>\n      <td>3</td>\n      <td>5ltpA</td>\n      <td>4.2</td>\n    </tr>\n    <tr>\n      <th>2471</th>\n      <td>5ltdA_33_524</td>\n      <td>Q5QA94</td>\n      <td>4.4.1</td>\n      <td>33_72,73_120,121_159,160_224,225_269,270_452,4...</td>\n      <td>7</td>\n      <td>69.29</td>\n      <td>462_489</td>\n      <td>1</td>\n      <td>5ltdA</td>\n      <td>4.4</td>\n    </tr>\n    <tr>\n      <th>2472</th>\n      <td>5ltqA_6_216</td>\n      <td>B1PNC0</td>\n      <td>4.2.0</td>\n      <td>6_33,34_96,97_127,150_190,191_216</td>\n      <td>5</td>\n      <td>36.80</td>\n      <td>49_80,128_149,182_187</td>\n      <td>3</td>\n      <td>5ltqA</td>\n      <td>4.2</td>\n    </tr>\n  </tbody>\n</table>\n<p>2473 rows × 10 columns</p>\n</div>"
     },
     "execution_count": 5,
     "metadata": {},
     "output_type": "execute_result"
    }
   ],
   "source": [
    "repeatsdb_unique_df = pd.read_csv(\"../data/repeatsdb_unique_updated.csv\", dtype={'ct': str})\n",
    "repeatsdb_unique_df"
   ],
   "metadata": {
    "collapsed": false,
    "pycharm": {
     "name": "#%%\n"
    }
   }
  },
  {
   "cell_type": "code",
   "execution_count": 13,
   "outputs": [],
   "source": [
    "structure_db = \"/home/soroushm/Documents/new_predictor_workframe/structure_files\"\n",
    "not_in_db = []\n",
    "\n",
    "for region_id in repeatsdb_unique_df[\"region_id\"]:\n",
    "    tmax_dir = os.path.join(structure_db, \"tmax\", region_id[1:3])\n",
    "    chain_dir = os.path.join(structure_db, \"chain\", region_id[1:3])\n",
    "    if os.path.exists(tmax_dir) and os.path.exists(chain_dir):\n",
    "        if f\"{region_id}_tmax.pdb\" not in os.listdir(tmax_dir) or f\"{region_id[:5]}.pdb\" not in os.listdir(chain_dir):\n",
    "            not_in_db.append(region_id)\n",
    "    else:\n",
    "        not_in_db.append(region_id)"
   ],
   "metadata": {
    "collapsed": false,
    "pycharm": {
     "name": "#%%\n"
    }
   }
  },
  {
   "cell_type": "code",
   "execution_count": 14,
   "outputs": [
    {
     "data": {
      "text/plain": "17"
     },
     "execution_count": 14,
     "metadata": {},
     "output_type": "execute_result"
    }
   ],
   "source": [
    "len(not_in_db)"
   ],
   "metadata": {
    "collapsed": false,
    "pycharm": {
     "name": "#%%\n"
    }
   }
  },
  {
   "cell_type": "code",
   "execution_count": 17,
   "outputs": [
    {
     "data": {
      "text/plain": "          region_id     uniprot     ctfc  \\\n0      4zb5A_11_311      P24300  4.5.0.0   \n1      5zbgA_24_171      Q13507    3.3.0   \n2     2zb5A_215_606      P08362  4.4.0.0   \n3     4zb4A_188_502      P32523  4.4.0.0   \n4       2zb1A_8_108      Q16539    4.2.0   \n...             ...         ...      ...   \n2468    3ctlA_2_218      P32719  4.1.1.3   \n2469  5ctrA_307_586      Q15020  3.3.0.0   \n2470    5ltpA_6_215  A0A1S4NYF2    4.2.0   \n2471   5ltdA_33_524      Q5QA94    4.4.1   \n2472    5ltqA_6_216      B1PNC0    4.2.0   \n\n                                                  units  units_num  units_avg  \\\n0     11_49,50_87,88_132,133_176,177_211,212_244,245...          8      36.62   \n1                            24_53,54_87,88_116,117_171          4      36.00   \n2       215_285,286_345,346_441,442_482,509_561,562_606          6      60.00   \n3     188_247,248_287,288_334,335_376,377_423,424_47...          7      44.00   \n4                                     8_23,24_47,88_108          3      19.33   \n...                                                 ...        ...        ...   \n2468  2_27,28_59,60_81,82_107,108_129,130_167,168_18...          8      26.12   \n2469  307_341,342_376,377_411,412_469,470_506,507_53...          7      39.00   \n2470                  6_31,32_94,95_127,148_179,190_215          5      35.00   \n2471  33_72,73_120,121_159,160_224,225_269,270_452,4...          7      69.29   \n2472                  6_33,34_96,97_127,150_190,191_216          5      36.80   \n\n                 insertions  insertions_num    pdb   ct  \n0                       NaN               0  4zb5A  4.5  \n1                   121_149               1  5zbgA  3.3  \n2           372_408,483_508               2  2zb5A  4.4  \n3                       NaN               0  4zb4A  4.4  \n4                     48_87               1  2zb1A  4.2  \n...                     ...             ...    ...  ...  \n2468                    NaN               0  3ctlA  4.1  \n2469                    NaN               0  5ctrA  3.3  \n2470  45_82,128_147,180_189               3  5ltpA  4.2  \n2471                462_489               1  5ltdA  4.4  \n2472  49_80,128_149,182_187               3  5ltqA  4.2  \n\n[2456 rows x 10 columns]",
      "text/html": "<div>\n<style scoped>\n    .dataframe tbody tr th:only-of-type {\n        vertical-align: middle;\n    }\n\n    .dataframe tbody tr th {\n        vertical-align: top;\n    }\n\n    .dataframe thead th {\n        text-align: right;\n    }\n</style>\n<table border=\"1\" class=\"dataframe\">\n  <thead>\n    <tr style=\"text-align: right;\">\n      <th></th>\n      <th>region_id</th>\n      <th>uniprot</th>\n      <th>ctfc</th>\n      <th>units</th>\n      <th>units_num</th>\n      <th>units_avg</th>\n      <th>insertions</th>\n      <th>insertions_num</th>\n      <th>pdb</th>\n      <th>ct</th>\n    </tr>\n  </thead>\n  <tbody>\n    <tr>\n      <th>0</th>\n      <td>4zb5A_11_311</td>\n      <td>P24300</td>\n      <td>4.5.0.0</td>\n      <td>11_49,50_87,88_132,133_176,177_211,212_244,245...</td>\n      <td>8</td>\n      <td>36.62</td>\n      <td>NaN</td>\n      <td>0</td>\n      <td>4zb5A</td>\n      <td>4.5</td>\n    </tr>\n    <tr>\n      <th>1</th>\n      <td>5zbgA_24_171</td>\n      <td>Q13507</td>\n      <td>3.3.0</td>\n      <td>24_53,54_87,88_116,117_171</td>\n      <td>4</td>\n      <td>36.00</td>\n      <td>121_149</td>\n      <td>1</td>\n      <td>5zbgA</td>\n      <td>3.3</td>\n    </tr>\n    <tr>\n      <th>2</th>\n      <td>2zb5A_215_606</td>\n      <td>P08362</td>\n      <td>4.4.0.0</td>\n      <td>215_285,286_345,346_441,442_482,509_561,562_606</td>\n      <td>6</td>\n      <td>60.00</td>\n      <td>372_408,483_508</td>\n      <td>2</td>\n      <td>2zb5A</td>\n      <td>4.4</td>\n    </tr>\n    <tr>\n      <th>3</th>\n      <td>4zb4A_188_502</td>\n      <td>P32523</td>\n      <td>4.4.0.0</td>\n      <td>188_247,248_287,288_334,335_376,377_423,424_47...</td>\n      <td>7</td>\n      <td>44.00</td>\n      <td>NaN</td>\n      <td>0</td>\n      <td>4zb4A</td>\n      <td>4.4</td>\n    </tr>\n    <tr>\n      <th>4</th>\n      <td>2zb1A_8_108</td>\n      <td>Q16539</td>\n      <td>4.2.0</td>\n      <td>8_23,24_47,88_108</td>\n      <td>3</td>\n      <td>19.33</td>\n      <td>48_87</td>\n      <td>1</td>\n      <td>2zb1A</td>\n      <td>4.2</td>\n    </tr>\n    <tr>\n      <th>...</th>\n      <td>...</td>\n      <td>...</td>\n      <td>...</td>\n      <td>...</td>\n      <td>...</td>\n      <td>...</td>\n      <td>...</td>\n      <td>...</td>\n      <td>...</td>\n      <td>...</td>\n    </tr>\n    <tr>\n      <th>2468</th>\n      <td>3ctlA_2_218</td>\n      <td>P32719</td>\n      <td>4.1.1.3</td>\n      <td>2_27,28_59,60_81,82_107,108_129,130_167,168_18...</td>\n      <td>8</td>\n      <td>26.12</td>\n      <td>NaN</td>\n      <td>0</td>\n      <td>3ctlA</td>\n      <td>4.1</td>\n    </tr>\n    <tr>\n      <th>2469</th>\n      <td>5ctrA_307_586</td>\n      <td>Q15020</td>\n      <td>3.3.0.0</td>\n      <td>307_341,342_376,377_411,412_469,470_506,507_53...</td>\n      <td>7</td>\n      <td>39.00</td>\n      <td>NaN</td>\n      <td>0</td>\n      <td>5ctrA</td>\n      <td>3.3</td>\n    </tr>\n    <tr>\n      <th>2470</th>\n      <td>5ltpA_6_215</td>\n      <td>A0A1S4NYF2</td>\n      <td>4.2.0</td>\n      <td>6_31,32_94,95_127,148_179,190_215</td>\n      <td>5</td>\n      <td>35.00</td>\n      <td>45_82,128_147,180_189</td>\n      <td>3</td>\n      <td>5ltpA</td>\n      <td>4.2</td>\n    </tr>\n    <tr>\n      <th>2471</th>\n      <td>5ltdA_33_524</td>\n      <td>Q5QA94</td>\n      <td>4.4.1</td>\n      <td>33_72,73_120,121_159,160_224,225_269,270_452,4...</td>\n      <td>7</td>\n      <td>69.29</td>\n      <td>462_489</td>\n      <td>1</td>\n      <td>5ltdA</td>\n      <td>4.4</td>\n    </tr>\n    <tr>\n      <th>2472</th>\n      <td>5ltqA_6_216</td>\n      <td>B1PNC0</td>\n      <td>4.2.0</td>\n      <td>6_33,34_96,97_127,150_190,191_216</td>\n      <td>5</td>\n      <td>36.80</td>\n      <td>49_80,128_149,182_187</td>\n      <td>3</td>\n      <td>5ltqA</td>\n      <td>4.2</td>\n    </tr>\n  </tbody>\n</table>\n<p>2456 rows × 10 columns</p>\n</div>"
     },
     "execution_count": 17,
     "metadata": {},
     "output_type": "execute_result"
    }
   ],
   "source": [
    "repeatsdb_unique_df = repeatsdb_unique_df[~repeatsdb_unique_df[\"region_id\"].isin(not_in_db)]\n",
    "repeatsdb_unique_df"
   ],
   "metadata": {
    "collapsed": false,
    "pycharm": {
     "name": "#%%\n"
    }
   }
  },
  {
   "cell_type": "code",
   "execution_count": 19,
   "outputs": [],
   "source": [
    "out_dir = \"/home/soroushm/Documents/ML-TRP-Parser_workframe/json_files/graph_tmscore_jsons\"\n",
    "for region_id in repeatsdb_unique_df[\"region_id\"]:\n",
    "    json_dict = {\"query\": region_id, \"target\": region_id}\n",
    "    out_subdir = os.path.join(out_dir, region_id[1:3])\n",
    "    os.makedirs(out_subdir, exist_ok=True)\n",
    "    out_path = os.path.join(out_subdir, f\"{region_id}.json\")\n",
    "    with open(out_path, \"w\") as fp:\n",
    "        json.dump(json_dict, fp)"
   ],
   "metadata": {
    "collapsed": false,
    "pycharm": {
     "name": "#%%\n"
    }
   }
  }
 ],
 "metadata": {
  "kernelspec": {
   "display_name": "Python 3",
   "language": "python",
   "name": "python3"
  },
  "language_info": {
   "codemirror_mode": {
    "name": "ipython",
    "version": 2
   },
   "file_extension": ".py",
   "mimetype": "text/x-python",
   "name": "python",
   "nbconvert_exporter": "python",
   "pygments_lexer": "ipython2",
   "version": "2.7.6"
  }
 },
 "nbformat": 4,
 "nbformat_minor": 0
}